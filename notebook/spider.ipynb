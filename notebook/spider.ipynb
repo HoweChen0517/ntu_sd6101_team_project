{
 "cells": [
  {
   "cell_type": "code",
   "execution_count": 1,
   "metadata": {},
   "outputs": [],
   "source": [
    "import pandas as pd\n",
    "import numpy as np\n",
    "import scipy \n",
    "import matplotlib.pyplot as plt\n",
    "import seaborn as sns \n",
    "import warnings \n",
    "import os\n",
    "import googlemaps\n",
    "from datetime import datetime\n",
    "\n",
    "# Setting the working directory\n",
    "os.chdir(r'../')\n",
    "\n",
    "# Pandas option:\n",
    "pd.set_option('max_colwidth',40)  # This allows us to see the data upto 40 characters per each column\n",
    "\n",
    "pd.options.display.max_columns = None   # This allows us to see all the columns without collapsing \n",
    "\n",
    "\n",
    "# The below code is for for showing all expressions, not just the result of the last expression\n",
    "from IPython.core.interactiveshell import InteractiveShell\n",
    "InteractiveShell.ast_node_interactivity = 'all'\n",
    "\n",
    "# Table styles, this below code is for decorating the dataframe no functional use.\n",
    "table_styles = {\n",
    "        'cerulean_palette' : [\n",
    "        dict(selector=\"th\", props=[(\"color\", \"#FFFFFF\"), (\"background\", \"#004D80\"), (\"text-transform\", \"capitalize\")]),\n",
    "        dict(selector=\"td\", props=[(\"color\", \"#333333\")]),\n",
    "        dict(selector=\"table\", props=[(\"font-family\", 'Arial'), (\"border-collapse\", \"collapse\")]),\n",
    "        dict(selector='tr:nth-child(even)', props=[('background', '#D3EEFF')]),\n",
    "        dict(selector='tr:nth-child(odd)', props=[('background', '#FFFFFF')]),\n",
    "        dict(selector=\"th\", props=[(\"border\", \"1px solid #0070BA\")]),\n",
    "        dict(selector=\"td\", props=[(\"border\", \"1px solid #0070BA\")]),\n",
    "        dict(selector=\"tr:hover\", props=[(\"background\", \"#80D0FF\")])\n",
    "    ]\n",
    "}\n",
    "\n",
    "# Filtering all the warnings:\n",
    "warnings.filterwarnings('ignore')"
   ]
  },
  {
   "cell_type": "markdown",
   "metadata": {},
   "source": [
    "# Load Data"
   ]
  },
  {
   "cell_type": "code",
   "execution_count": 39,
   "metadata": {},
   "outputs": [
    {
     "data": {
      "text/html": [
       "<div>\n",
       "<style scoped>\n",
       "    .dataframe tbody tr th:only-of-type {\n",
       "        vertical-align: middle;\n",
       "    }\n",
       "\n",
       "    .dataframe tbody tr th {\n",
       "        vertical-align: top;\n",
       "    }\n",
       "\n",
       "    .dataframe thead th {\n",
       "        text-align: right;\n",
       "    }\n",
       "</style>\n",
       "<table border=\"1\" class=\"dataframe\">\n",
       "  <thead>\n",
       "    <tr style=\"text-align: right;\">\n",
       "      <th></th>\n",
       "      <th>url</th>\n",
       "      <th>address</th>\n",
       "      <th>name</th>\n",
       "      <th>online_order</th>\n",
       "      <th>book_table</th>\n",
       "      <th>rate</th>\n",
       "      <th>votes</th>\n",
       "      <th>phone</th>\n",
       "      <th>location</th>\n",
       "      <th>rest_type</th>\n",
       "      <th>dish_liked</th>\n",
       "      <th>cuisines</th>\n",
       "      <th>approx_cost(for two people)</th>\n",
       "      <th>reviews_list</th>\n",
       "      <th>menu_item</th>\n",
       "      <th>listed_in(type)</th>\n",
       "      <th>listed_in(city)</th>\n",
       "      <th>ID</th>\n",
       "    </tr>\n",
       "  </thead>\n",
       "  <tbody>\n",
       "    <tr>\n",
       "      <th>0</th>\n",
       "      <td>https://www.zomato.com/bangalore/jal...</td>\n",
       "      <td>942, 21st Main Road, 2nd Stage, Bana...</td>\n",
       "      <td>Jalsa</td>\n",
       "      <td>Yes</td>\n",
       "      <td>Yes</td>\n",
       "      <td>4.1/5</td>\n",
       "      <td>775</td>\n",
       "      <td>080 42297555\\r\\n+91 9743772233</td>\n",
       "      <td>Banashankari</td>\n",
       "      <td>Casual Dining</td>\n",
       "      <td>Pasta, Lunch Buffet, Masala Papad, P...</td>\n",
       "      <td>North Indian, Mughlai, Chinese</td>\n",
       "      <td>800</td>\n",
       "      <td>[('Rated 4.0', 'RATED\\n  A beautiful...</td>\n",
       "      <td>[]</td>\n",
       "      <td>Buffet</td>\n",
       "      <td>Banashankari</td>\n",
       "      <td>00001</td>\n",
       "    </tr>\n",
       "    <tr>\n",
       "      <th>1</th>\n",
       "      <td>https://www.zomato.com/bangalore/spi...</td>\n",
       "      <td>2nd Floor, 80 Feet Road, Near Big Ba...</td>\n",
       "      <td>Spice Elephant</td>\n",
       "      <td>Yes</td>\n",
       "      <td>No</td>\n",
       "      <td>4.1/5</td>\n",
       "      <td>787</td>\n",
       "      <td>080 41714161</td>\n",
       "      <td>Banashankari</td>\n",
       "      <td>Casual Dining</td>\n",
       "      <td>Momos, Lunch Buffet, Chocolate Nirva...</td>\n",
       "      <td>Chinese, North Indian, Thai</td>\n",
       "      <td>800</td>\n",
       "      <td>[('Rated 4.0', 'RATED\\n  Had been he...</td>\n",
       "      <td>[]</td>\n",
       "      <td>Buffet</td>\n",
       "      <td>Banashankari</td>\n",
       "      <td>00002</td>\n",
       "    </tr>\n",
       "    <tr>\n",
       "      <th>2</th>\n",
       "      <td>https://www.zomato.com/SanchurroBang...</td>\n",
       "      <td>1112, Next to KIMS Medical College, ...</td>\n",
       "      <td>San Churro Cafe</td>\n",
       "      <td>Yes</td>\n",
       "      <td>No</td>\n",
       "      <td>3.8/5</td>\n",
       "      <td>918</td>\n",
       "      <td>+91 9663487993</td>\n",
       "      <td>Banashankari</td>\n",
       "      <td>Cafe, Casual Dining</td>\n",
       "      <td>Churros, Cannelloni, Minestrone Soup...</td>\n",
       "      <td>Cafe, Mexican, Italian</td>\n",
       "      <td>800</td>\n",
       "      <td>[('Rated 3.0', \"RATED\\n  Ambience is...</td>\n",
       "      <td>[]</td>\n",
       "      <td>Buffet</td>\n",
       "      <td>Banashankari</td>\n",
       "      <td>00003</td>\n",
       "    </tr>\n",
       "    <tr>\n",
       "      <th>3</th>\n",
       "      <td>https://www.zomato.com/bangalore/add...</td>\n",
       "      <td>1st Floor, Annakuteera, 3rd Stage, B...</td>\n",
       "      <td>Addhuri Udupi Bhojana</td>\n",
       "      <td>No</td>\n",
       "      <td>No</td>\n",
       "      <td>3.7/5</td>\n",
       "      <td>88</td>\n",
       "      <td>+91 9620009302</td>\n",
       "      <td>Banashankari</td>\n",
       "      <td>Quick Bites</td>\n",
       "      <td>Masala Dosa</td>\n",
       "      <td>South Indian, North Indian</td>\n",
       "      <td>300</td>\n",
       "      <td>[('Rated 4.0', \"RATED\\n  Great food ...</td>\n",
       "      <td>[]</td>\n",
       "      <td>Buffet</td>\n",
       "      <td>Banashankari</td>\n",
       "      <td>00004</td>\n",
       "    </tr>\n",
       "    <tr>\n",
       "      <th>4</th>\n",
       "      <td>https://www.zomato.com/bangalore/gra...</td>\n",
       "      <td>10, 3rd Floor, Lakshmi Associates, G...</td>\n",
       "      <td>Grand Village</td>\n",
       "      <td>No</td>\n",
       "      <td>No</td>\n",
       "      <td>3.8/5</td>\n",
       "      <td>166</td>\n",
       "      <td>+91 8026612447\\r\\n+91 9901210005</td>\n",
       "      <td>Basavanagudi</td>\n",
       "      <td>Casual Dining</td>\n",
       "      <td>Panipuri, Gol Gappe</td>\n",
       "      <td>North Indian, Rajasthani</td>\n",
       "      <td>600</td>\n",
       "      <td>[('Rated 4.0', 'RATED\\n  Very good r...</td>\n",
       "      <td>[]</td>\n",
       "      <td>Buffet</td>\n",
       "      <td>Banashankari</td>\n",
       "      <td>00005</td>\n",
       "    </tr>\n",
       "  </tbody>\n",
       "</table>\n",
       "</div>"
      ],
      "text/plain": [
       "                                       url  \\\n",
       "0  https://www.zomato.com/bangalore/jal...   \n",
       "1  https://www.zomato.com/bangalore/spi...   \n",
       "2  https://www.zomato.com/SanchurroBang...   \n",
       "3  https://www.zomato.com/bangalore/add...   \n",
       "4  https://www.zomato.com/bangalore/gra...   \n",
       "\n",
       "                                   address                   name  \\\n",
       "0  942, 21st Main Road, 2nd Stage, Bana...                  Jalsa   \n",
       "1  2nd Floor, 80 Feet Road, Near Big Ba...         Spice Elephant   \n",
       "2  1112, Next to KIMS Medical College, ...        San Churro Cafe   \n",
       "3  1st Floor, Annakuteera, 3rd Stage, B...  Addhuri Udupi Bhojana   \n",
       "4  10, 3rd Floor, Lakshmi Associates, G...          Grand Village   \n",
       "\n",
       "  online_order book_table   rate  votes                             phone  \\\n",
       "0          Yes        Yes  4.1/5    775    080 42297555\\r\\n+91 9743772233   \n",
       "1          Yes         No  4.1/5    787                      080 41714161   \n",
       "2          Yes         No  3.8/5    918                    +91 9663487993   \n",
       "3           No         No  3.7/5     88                    +91 9620009302   \n",
       "4           No         No  3.8/5    166  +91 8026612447\\r\\n+91 9901210005   \n",
       "\n",
       "       location            rest_type                               dish_liked  \\\n",
       "0  Banashankari        Casual Dining  Pasta, Lunch Buffet, Masala Papad, P...   \n",
       "1  Banashankari        Casual Dining  Momos, Lunch Buffet, Chocolate Nirva...   \n",
       "2  Banashankari  Cafe, Casual Dining  Churros, Cannelloni, Minestrone Soup...   \n",
       "3  Banashankari          Quick Bites                              Masala Dosa   \n",
       "4  Basavanagudi        Casual Dining                      Panipuri, Gol Gappe   \n",
       "\n",
       "                         cuisines approx_cost(for two people)  \\\n",
       "0  North Indian, Mughlai, Chinese                         800   \n",
       "1     Chinese, North Indian, Thai                         800   \n",
       "2          Cafe, Mexican, Italian                         800   \n",
       "3      South Indian, North Indian                         300   \n",
       "4        North Indian, Rajasthani                         600   \n",
       "\n",
       "                              reviews_list menu_item listed_in(type)  \\\n",
       "0  [('Rated 4.0', 'RATED\\n  A beautiful...        []          Buffet   \n",
       "1  [('Rated 4.0', 'RATED\\n  Had been he...        []          Buffet   \n",
       "2  [('Rated 3.0', \"RATED\\n  Ambience is...        []          Buffet   \n",
       "3  [('Rated 4.0', \"RATED\\n  Great food ...        []          Buffet   \n",
       "4  [('Rated 4.0', 'RATED\\n  Very good r...        []          Buffet   \n",
       "\n",
       "  listed_in(city)     ID  \n",
       "0    Banashankari  00001  \n",
       "1    Banashankari  00002  \n",
       "2    Banashankari  00003  \n",
       "3    Banashankari  00004  \n",
       "4    Banashankari  00005  "
      ]
     },
     "execution_count": 39,
     "metadata": {},
     "output_type": "execute_result"
    }
   ],
   "source": [
    "df=pd.read_csv('data/zomato.csv')\n",
    "df['ID'] = [str(i).zfill(5) for i in range(1, len(df) + 1)]\n",
    "df.head()"
   ]
  },
  {
   "cell_type": "code",
   "execution_count": 42,
   "metadata": {},
   "outputs": [],
   "source": [
    "locations = pd.unique(df['location']).tolist()\n",
    "location_ids = range(1, len(locations)+1)\n",
    "location_ids = [str(i).zfill(3) for i in location_ids]\n",
    "location_id_map_dict = {\n",
    "    str(i): str(j) for i,j in zip(locations, location_ids)\n",
    "}\n",
    "df['location_id'] = df['location'].apply(lambda x: location_id_map_dict[str(x)])"
   ]
  },
  {
   "cell_type": "code",
   "execution_count": 43,
   "metadata": {},
   "outputs": [
    {
     "data": {
      "text/plain": [
       "Index(['url', 'address', 'name', 'online_order', 'book_table', 'rate', 'votes',\n",
       "       'phone', 'location', 'rest_type', 'dish_liked', 'cuisines',\n",
       "       'approx_cost(for two people)', 'reviews_list', 'menu_item',\n",
       "       'listed_in(type)', 'listed_in(city)', 'ID', 'location_id'],\n",
       "      dtype='object')"
      ]
     },
     "execution_count": 43,
     "metadata": {},
     "output_type": "execute_result"
    }
   ],
   "source": [
    "df.columns"
   ]
  },
  {
   "cell_type": "code",
   "execution_count": 7,
   "metadata": {},
   "outputs": [
    {
     "data": {
      "text/plain": [
       "'/Users/howechen/Project/ntu_sd6101_team_project'"
      ]
     },
     "execution_count": 7,
     "metadata": {},
     "output_type": "execute_result"
    }
   ],
   "source": [
    "os.getcwd()"
   ]
  },
  {
   "cell_type": "markdown",
   "metadata": {},
   "source": [
    "# Get Geocode Data"
   ]
  },
  {
   "cell_type": "code",
   "execution_count": 2,
   "metadata": {},
   "outputs": [],
   "source": [
    "# Google Maps API Methods\n",
    "with open(r'../my api token/googlemaps.txt', 'r') as f:\n",
    "    api_token = f.read()\n",
    "    f.close()\n",
    "gmaps = googlemaps.Client(key=api_token)\n",
    "\n",
    "# Geocoding an address\n",
    "# geocode_result = gmaps.geocode('1600 Amphitheatre Parkway, Mountain View, CA')\n",
    "\n",
    "# # Look up an address with reverse geocoding\n",
    "# reverse_geocode_result = gmaps.reverse_geocode((40.714224, -73.961452))\n",
    "\n",
    "# # Request directions via public transit\n",
    "# now = datetime.now()\n",
    "# directions_result = gmaps.directions(\"Sydney Town Hall\",\n",
    "#                                      \"Parramatta, NSW\",\n",
    "#                                      mode=\"transit\",\n",
    "#                                      departure_time=now)\n",
    "\n",
    "# # Validate an address with address validation\n",
    "# addressvalidation_result =  gmaps.addressvalidation(['1600 Amphitheatre Pk'], \n",
    "#                                                     regionCode='US',\n",
    "#                                                     locality='Mountain View', \n",
    "#                                                     enableUspsCass=True)\n",
    "\n",
    "# # Get an Address Descriptor of a location in the reverse geocoding response\n",
    "# # address_descriptor_result = gmaps.reverse_geocode((40.714224, -73.961452), enable_address_descriptor=True)\n"
   ]
  },
  {
   "cell_type": "code",
   "execution_count": 4,
   "metadata": {},
   "outputs": [],
   "source": [
    "# geocode_result[0]['geometry']"
   ]
  },
  {
   "cell_type": "code",
   "execution_count": 49,
   "metadata": {},
   "outputs": [],
   "source": [
    "def get_lat_lng(gmaps, address):\n",
    "    try:\n",
    "        geocode_result = gmaps.geocode(address)\n",
    "        lat = geocode_result[0]['geometry']['location']['lat']\n",
    "        lng = geocode_result[0]['geometry']['location']['lng']\n",
    "        return lat, lng\n",
    "    except Exception as e:\n",
    "        print(f'Error: {e}')\n",
    "        return None, None"
   ]
  },
  {
   "cell_type": "code",
   "execution_count": 47,
   "metadata": {},
   "outputs": [
    {
     "data": {
      "text/html": [
       "<div>\n",
       "<style scoped>\n",
       "    .dataframe tbody tr th:only-of-type {\n",
       "        vertical-align: middle;\n",
       "    }\n",
       "\n",
       "    .dataframe tbody tr th {\n",
       "        vertical-align: top;\n",
       "    }\n",
       "\n",
       "    .dataframe thead th {\n",
       "        text-align: right;\n",
       "    }\n",
       "</style>\n",
       "<table border=\"1\" class=\"dataframe\">\n",
       "  <thead>\n",
       "    <tr style=\"text-align: right;\">\n",
       "      <th></th>\n",
       "      <th>ID</th>\n",
       "      <th>location_id</th>\n",
       "      <th>location_name</th>\n",
       "      <th>address</th>\n",
       "    </tr>\n",
       "  </thead>\n",
       "  <tbody>\n",
       "    <tr>\n",
       "      <th>0</th>\n",
       "      <td>00001</td>\n",
       "      <td>001</td>\n",
       "      <td>Banashankari</td>\n",
       "      <td>942, 21st Main Road, 2nd Stage, Bana...</td>\n",
       "    </tr>\n",
       "    <tr>\n",
       "      <th>1</th>\n",
       "      <td>00002</td>\n",
       "      <td>001</td>\n",
       "      <td>Banashankari</td>\n",
       "      <td>2nd Floor, 80 Feet Road, Near Big Ba...</td>\n",
       "    </tr>\n",
       "    <tr>\n",
       "      <th>2</th>\n",
       "      <td>00003</td>\n",
       "      <td>001</td>\n",
       "      <td>Banashankari</td>\n",
       "      <td>1112, Next to KIMS Medical College, ...</td>\n",
       "    </tr>\n",
       "    <tr>\n",
       "      <th>3</th>\n",
       "      <td>00004</td>\n",
       "      <td>001</td>\n",
       "      <td>Banashankari</td>\n",
       "      <td>1st Floor, Annakuteera, 3rd Stage, B...</td>\n",
       "    </tr>\n",
       "    <tr>\n",
       "      <th>4</th>\n",
       "      <td>00005</td>\n",
       "      <td>002</td>\n",
       "      <td>Basavanagudi</td>\n",
       "      <td>10, 3rd Floor, Lakshmi Associates, G...</td>\n",
       "    </tr>\n",
       "  </tbody>\n",
       "</table>\n",
       "</div>"
      ],
      "text/plain": [
       "      ID location_id location_name                                  address\n",
       "0  00001         001  Banashankari  942, 21st Main Road, 2nd Stage, Bana...\n",
       "1  00002         001  Banashankari  2nd Floor, 80 Feet Road, Near Big Ba...\n",
       "2  00003         001  Banashankari  1112, Next to KIMS Medical College, ...\n",
       "3  00004         001  Banashankari  1st Floor, Annakuteera, 3rd Stage, B...\n",
       "4  00005         002  Basavanagudi  10, 3rd Floor, Lakshmi Associates, G..."
      ]
     },
     "execution_count": 47,
     "metadata": {},
     "output_type": "execute_result"
    }
   ],
   "source": [
    "location_df = df.loc[:, ['ID', 'location_id', 'location', 'address']]\n",
    "location_df.rename(columns={'location': 'location_name'}, inplace=True)\n",
    "location_df.head()"
   ]
  },
  {
   "cell_type": "code",
   "execution_count": 5,
   "metadata": {},
   "outputs": [],
   "source": [
    "# location_df['lat'], location_df['lng'] = zip(*location_df['address'].apply(lambda x: get_lat_lng(gmaps, x)))"
   ]
  },
  {
   "cell_type": "code",
   "execution_count": 56,
   "metadata": {},
   "outputs": [],
   "source": [
    "Banashankari_geocode_result = gmaps.geocode('Banashankari,Bangalore')\n",
    "Basavanagudi_geocode_result = gmaps.geocode('Basavanagudi,Bangalore')\n",
    "Bangalore_geocode_result = gmaps.geocode('Bangalore')"
   ]
  },
  {
   "cell_type": "code",
   "execution_count": 55,
   "metadata": {},
   "outputs": [
    {
     "data": {
      "text/plain": [
       "{'bounds': {'northeast': {'lat': 12.9565439, 'lng': 77.57441370000001},\n",
       "  'southwest': {'lat': 12.912888, 'lng': 77.531272}},\n",
       " 'location': {'lat': 12.9254533, 'lng': 77.546757},\n",
       " 'location_type': 'APPROXIMATE',\n",
       " 'viewport': {'northeast': {'lat': 12.9565439, 'lng': 77.57441370000001},\n",
       "  'southwest': {'lat': 12.912888, 'lng': 77.531272}}}"
      ]
     },
     "execution_count": 55,
     "metadata": {},
     "output_type": "execute_result"
    }
   ],
   "source": [
    "Banashankari_geocode_result[0]['geometry']"
   ]
  },
  {
   "cell_type": "code",
   "execution_count": 53,
   "metadata": {},
   "outputs": [
    {
     "data": {
      "text/plain": [
       "{'bounds': {'northeast': {'lat': 13.173706, 'lng': 77.8826809},\n",
       "  'southwest': {'lat': 12.7342888, 'lng': 77.3791981}},\n",
       " 'location': {'lat': 12.9715987, 'lng': 77.5945627},\n",
       " 'location_type': 'APPROXIMATE',\n",
       " 'viewport': {'northeast': {'lat': 13.173706, 'lng': 77.8826809},\n",
       "  'southwest': {'lat': 12.7342888, 'lng': 77.3791981}}}"
      ]
     },
     "execution_count": 53,
     "metadata": {},
     "output_type": "execute_result"
    }
   ],
   "source": [
    "Bangalore_geocode_result[0]['geometry']"
   ]
  },
  {
   "cell_type": "code",
   "execution_count": 57,
   "metadata": {},
   "outputs": [
    {
     "data": {
      "text/plain": [
       "{'bounds': {'northeast': {'lat': 12.9572519, 'lng': 77.5801421},\n",
       "  'southwest': {'lat': 12.9286136, 'lng': 77.5613754}},\n",
       " 'location': {'lat': 12.9405997, 'lng': 77.5737633},\n",
       " 'location_type': 'APPROXIMATE',\n",
       " 'viewport': {'northeast': {'lat': 12.9572519, 'lng': 77.5801421},\n",
       "  'southwest': {'lat': 12.9286136, 'lng': 77.5613754}}}"
      ]
     },
     "execution_count": 57,
     "metadata": {},
     "output_type": "execute_result"
    }
   ],
   "source": [
    "Basavanagudi_geocode_result[0]['geometry']"
   ]
  },
  {
   "cell_type": "code",
   "execution_count": 50,
   "metadata": {},
   "outputs": [
    {
     "data": {
      "text/plain": [
       "array(['Banashankari', 'Basavanagudi', 'Mysore Road', 'Jayanagar',\n",
       "       'Kumaraswamy Layout', 'Rajarajeshwari Nagar', 'Vijay Nagar',\n",
       "       'Uttarahalli', 'JP Nagar', 'South Bangalore', 'City Market',\n",
       "       'Nagarbhavi', 'Bannerghatta Road', 'BTM', 'Kanakapura Road',\n",
       "       'Bommanahalli', nan, 'CV Raman Nagar', 'Electronic City', 'HSR',\n",
       "       'Marathahalli', 'Sarjapur Road', 'Wilson Garden', 'Shanti Nagar',\n",
       "       'Koramangala 5th Block', 'Koramangala 8th Block', 'Richmond Road',\n",
       "       'Koramangala 7th Block', 'Jalahalli', 'Koramangala 4th Block',\n",
       "       'Bellandur', 'Whitefield', 'East Bangalore', 'Old Airport Road',\n",
       "       'Indiranagar', 'Koramangala 1st Block', 'Frazer Town', 'RT Nagar',\n",
       "       'MG Road', 'Brigade Road', 'Lavelle Road', 'Church Street',\n",
       "       'Ulsoor', 'Residency Road', 'Shivajinagar', 'Infantry Road',\n",
       "       'St. Marks Road', 'Cunningham Road', 'Race Course Road',\n",
       "       'Commercial Street', 'Vasanth Nagar', 'HBR Layout', 'Domlur',\n",
       "       'Ejipura', 'Jeevan Bhima Nagar', 'Old Madras Road', 'Malleshwaram',\n",
       "       'Seshadripuram', 'Kammanahalli', 'Koramangala 6th Block',\n",
       "       'Majestic', 'Langford Town', 'Central Bangalore', 'Sanjay Nagar',\n",
       "       'Brookefield', 'ITPL Main Road, Whitefield',\n",
       "       'Varthur Main Road, Whitefield', 'KR Puram',\n",
       "       'Koramangala 2nd Block', 'Koramangala 3rd Block', 'Koramangala',\n",
       "       'Hosur Road', 'Rajajinagar', 'Banaswadi', 'North Bangalore',\n",
       "       'Nagawara', 'Hennur', 'Kalyan Nagar', 'New BEL Road', 'Jakkur',\n",
       "       'Rammurthy Nagar', 'Thippasandra', 'Kaggadasapura', 'Hebbal',\n",
       "       'Kengeri', 'Sankey Road', 'Sadashiv Nagar', 'Basaveshwara Nagar',\n",
       "       'Yeshwantpur', 'West Bangalore', 'Magadi Road', 'Yelahanka',\n",
       "       'Sahakara Nagar', 'Peenya'], dtype=object)"
      ]
     },
     "execution_count": 50,
     "metadata": {},
     "output_type": "execute_result"
    }
   ],
   "source": [
    "pd.unique(location_df['location_name'])"
   ]
  },
  {
   "cell_type": "code",
   "execution_count": null,
   "metadata": {},
   "outputs": [],
   "source": [
    "info_dict = {\n",
    "    'Banashankari':,\n",
    "    'Basavanagudi':,\n",
    "    'Mysore Road':,\n",
    "    'Jayanagar':,\n",
    "    'Kumaraswamy Layout',\n",
    "    'Rajarajeshwari Nagar',\n",
    "    'Vijay Nagar',\n",
    "    'Uttarahalli',\n",
    "    'JP Nagar',\n",
    "    'South Bangalore',\n",
    "    'City Market',\n",
    "    'Nagarbhavi',\n",
    "    'Bannerghatta Road',\n",
    "    'BTM',\n",
    "    'Kanakapura Road',\n",
    "    'Bommanahalli',\n",
    "    'CV Raman Nagar',\n",
    "    'Electronic City',\n",
    "    'HSR',\n",
    "    'Marathahalli',\n",
    "    'Sarjapur Road',\n",
    "    'Wilson Garden',\n",
    "    'Shanti Nagar',\n",
    "    'Koramangala 5th Block',\n",
    "    'Koramangala 8th Block',\n",
    "    'Richmond Road',\n",
    "    'Koramangala 7th Block',\n",
    "    'Jalahalli',\n",
    "    'Koramangala 4th Block',\n",
    "    'Bellandur',\n",
    "    'Whitefield',\n",
    "    'East Bangalore',\n",
    "    'Old Airport Road',\n",
    "    'Indiranagar',\n",
    "    'Koramangala 1st Block',\n",
    "    'Frazer Town',\n",
    "    'RT Nagar',\n",
    "    'MG Road',\n",
    "    'Brigade Road',\n",
    "    'Lavelle Road',\n",
    "    'Church Street',\n",
    "    'Ulsoor',\n",
    "    'Residency Road',\n",
    "    'Shivajinagar',\n",
    "    'Infantry Road',\n",
    "    'St. Marks Road',\n",
    "    'Cunningham Road',\n",
    "    'Race Course Road',\n",
    "    'Commercial Street',\n",
    "    'Vasanth Nagar',\n",
    "    'HBR Layout',\n",
    "    'Domlur',\n",
    "    'Ejipura',\n",
    "    'Jeevan Bhima Nagar',\n",
    "    'Old Madras Road',\n",
    "    'Malleshwaram',\n",
    "    'Seshadripuram',\n",
    "    'Kammanahalli',\n",
    "    'Koramangala 6th Block',\n",
    "    'Majestic',\n",
    "    'Langford Town',\n",
    "    'Central Bangalore',\n",
    "    'Sanjay Nagar',\n",
    "    'Brookefield',\n",
    "    'ITPL Main Road, Whitefield',\n",
    "    'Varthur Main Road, Whitefield',\n",
    "    'KR Puram',\n",
    "    'Koramangala 2nd Block',\n",
    "    'Koramangala 3rd Block',\n",
    "    'Koramangala',\n",
    "    'Hosur Road',\n",
    "    'Rajajinagar',\n",
    "    'Banaswadi',\n",
    "    'North Bangalore',\n",
    "    'Nagawara',\n",
    "    'Hennur',\n",
    "    'Kalyan Nagar',\n",
    "    'New BEL Road',\n",
    "    'Jakkur',\n",
    "    'Rammurthy Nagar',\n",
    "    'Thippasandra',\n",
    "    'Kaggadasapura',\n",
    "    'Hebbal',\n",
    "    'Kengeri',\n",
    "    'Sankey Road',\n",
    "    'Sadashiv Nagar',\n",
    "    'Basaveshwara Nagar',\n",
    "    'Yeshwantpur',\n",
    "    'West Bangalore',\n",
    "    'Magadi Road',\n",
    "    'Yelahanka',\n",
    "    'Sahakara Nagar',\n",
    "    'Peenya'\n",
    "}"
   ]
  }
 ],
 "metadata": {
  "kernelspec": {
   "display_name": "ntu_sd6101_GP",
   "language": "python",
   "name": "python3"
  },
  "language_info": {
   "codemirror_mode": {
    "name": "ipython",
    "version": 3
   },
   "file_extension": ".py",
   "mimetype": "text/x-python",
   "name": "python",
   "nbconvert_exporter": "python",
   "pygments_lexer": "ipython3",
   "version": "3.12.7"
  }
 },
 "nbformat": 4,
 "nbformat_minor": 2
}
